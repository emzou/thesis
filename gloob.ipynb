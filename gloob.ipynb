{
 "cells": [
  {
   "cell_type": "code",
   "execution_count": 20,
   "metadata": {},
   "outputs": [],
   "source": [
    "import glob "
   ]
  },
  {
   "cell_type": "code",
   "execution_count": 21,
   "metadata": {},
   "outputs": [],
   "source": [
    "list = glob.glob(\"/Users/emilyzou/dooby/data/*.json\")"
   ]
  },
  {
   "cell_type": "code",
   "execution_count": 22,
   "metadata": {},
   "outputs": [
    {
     "data": {
      "text/plain": [
       "['/Users/emilyzou/dooby/data/79VwfZTSRGc.json',\n",
       " '/Users/emilyzou/dooby/data/50GMvrlzrXY.json',\n",
       " '/Users/emilyzou/dooby/data/5_V-K1qpRfA.json',\n",
       " '/Users/emilyzou/dooby/data/7OPP3hoZhsw.json',\n",
       " '/Users/emilyzou/dooby/data/0D-X0UeQBjY.json',\n",
       " '/Users/emilyzou/dooby/data/8CGTbrbvVmo.json',\n",
       " '/Users/emilyzou/dooby/data/2zmuENdIjeE.json',\n",
       " '/Users/emilyzou/dooby/data/6dgM_UpgOlg.json',\n",
       " '/Users/emilyzou/dooby/data/3snZbFx77AY.json']"
      ]
     },
     "execution_count": 22,
     "metadata": {},
     "output_type": "execute_result"
    }
   ],
   "source": [
    "list"
   ]
  },
  {
   "cell_type": "code",
   "execution_count": 23,
   "metadata": {},
   "outputs": [
    {
     "name": "stdout",
     "output_type": "stream",
     "text": [
      "/Users/emilyzou/dooby/sorry.py -f/Users/emilyzou/dooby/data/79VwfZTSRGc.json\n",
      "/Users/emilyzou/dooby/sorry.py -f/Users/emilyzou/dooby/data/50GMvrlzrXY.json\n",
      "/Users/emilyzou/dooby/sorry.py -f/Users/emilyzou/dooby/data/5_V-K1qpRfA.json\n",
      "/Users/emilyzou/dooby/sorry.py -f/Users/emilyzou/dooby/data/7OPP3hoZhsw.json\n",
      "/Users/emilyzou/dooby/sorry.py -f/Users/emilyzou/dooby/data/0D-X0UeQBjY.json\n",
      "/Users/emilyzou/dooby/sorry.py -f/Users/emilyzou/dooby/data/8CGTbrbvVmo.json\n",
      "/Users/emilyzou/dooby/sorry.py -f/Users/emilyzou/dooby/data/2zmuENdIjeE.json\n",
      "/Users/emilyzou/dooby/sorry.py -f/Users/emilyzou/dooby/data/6dgM_UpgOlg.json\n",
      "/Users/emilyzou/dooby/sorry.py -f/Users/emilyzou/dooby/data/3snZbFx77AY.json\n"
     ]
    }
   ],
   "source": [
    "def linemaker (str):\n",
    "    return \"/Users/emilyzou/dooby/sorry.py \" + \"-f\" + str\n",
    "\n",
    "linemaked = [linemaker(x) for x in list]\n",
    "print (\"\\n\".join(str(x) for x in linemaked))"
   ]
  }
 ],
 "metadata": {
  "kernelspec": {
   "display_name": "Python 3.9.12 ('base')",
   "language": "python",
   "name": "python3"
  },
  "language_info": {
   "codemirror_mode": {
    "name": "ipython",
    "version": 3
   },
   "file_extension": ".py",
   "mimetype": "text/x-python",
   "name": "python",
   "nbconvert_exporter": "python",
   "pygments_lexer": "ipython3",
   "version": "3.9.12"
  },
  "orig_nbformat": 4,
  "vscode": {
   "interpreter": {
    "hash": "dda3671ff3204f7c08d6fd700d73245b2febe83cbc27407a5dbd57f565cde480"
   }
  }
 },
 "nbformat": 4,
 "nbformat_minor": 2
}
