{
 "cells": [
  {
   "cell_type": "code",
   "execution_count": 2,
   "metadata": {},
   "outputs": [],
   "source": [
    "import pandas as pd"
   ]
  },
  {
   "cell_type": "code",
   "execution_count": 3,
   "metadata": {},
   "outputs": [],
   "source": [
    "import scrapetube\n",
    "videos = scrapetube.get_channel (\"UCq6VFHwMzcMXbuKyG7SQYIg\")"
   ]
  },
  {
   "attachments": {},
   "cell_type": "markdown",
   "metadata": {},
   "source": [
    "oldest mogul mail video is october 26 2021"
   ]
  },
  {
   "cell_type": "code",
   "execution_count": 4,
   "metadata": {},
   "outputs": [],
   "source": [
    "penguin = [x['videoId'] for x in videos]"
   ]
  },
  {
   "cell_type": "code",
   "execution_count": 5,
   "metadata": {},
   "outputs": [
    {
     "name": "stdout",
     "output_type": "stream",
     "text": [
      "1613\n",
      "q-EDtPLye_k\n",
      "yu1AurtSL18\n",
      "dP6cCisxaBA\n",
      "udDINILQH10\n",
      "QcraPMuS_IM\n",
      "1407\n"
     ]
    }
   ],
   "source": [
    "id1 = penguin.index('fXESVsoTRQQ')\n",
    "pog = penguin[:id1]\n",
    "# everything after jul 14 2021\n",
    "print (len(pog))\n",
    "print (pog[1600])\n",
    "# jul 21 2021\n",
    "print (pog[1400])\n",
    "# oct 29 2021\n",
    "print (pog[1420])\n",
    "# oct 19 2021\n",
    "print (pog[1410])\n",
    "#oct 24 2021\n",
    "print (pog[1407])\n",
    "# oct 26 2021\n",
    "pi = pog [:1407]\n",
    "print (len (pi))\n"
   ]
  },
  {
   "cell_type": "code",
   "execution_count": 6,
   "metadata": {},
   "outputs": [],
   "source": [
    "spit = [pi[i:i+140] for i in range (0, 1399, 140)]"
   ]
  },
  {
   "cell_type": "code",
   "execution_count": 7,
   "metadata": {},
   "outputs": [
    {
     "data": {
      "text/plain": [
       "['yu1AurtSL18',\n",
       " 'fdMil7y4Vk4',\n",
       " '5hs_hsg6Bag',\n",
       " 'Iu3ACqelfeY',\n",
       " 'Jw85UWix1XA',\n",
       " 'PjnL9eU33Mg',\n",
       " 'e4MmycR8oOY']"
      ]
     },
     "execution_count": 7,
     "metadata": {},
     "output_type": "execute_result"
    }
   ],
   "source": [
    "spat = pi [1400:]\n",
    "spat"
   ]
  },
  {
   "cell_type": "code",
   "execution_count": null,
   "metadata": {},
   "outputs": [],
   "source": [
    "def dir (str):\n",
    "    return \"youtube-comment-downloader --youtubeid \" + str + \" --output \" + str + \".json\"\n",
    "\n",
    "vidids = [dir(x) for x in spit[0]]\n",
    "print (\"\\n\".join(str(x) for x in vidids))"
   ]
  },
  {
   "cell_type": "code",
   "execution_count": 6,
   "metadata": {},
   "outputs": [
    {
     "name": "stdout",
     "output_type": "stream",
     "text": [
      "{'cid': 'UgwwS_DT4zk6WSaDo3R4AaABAg', 'text': 'this is why you keep the way you talk in person away from text. ffs!', 'time': '33 minutes ago', 'author': '@tigersharkgaming382', 'channel': 'UCYWOZKATsQw9fdJjZ6k_GhA', 'votes': '0', 'photo': 'https://yt3.ggpht.com/2rxm2Pb1BqkbjpnnzhZnN_MKcI2Sr039rNXR_Q-937DBtEKsf042dEy3k7ntPpBAydykHSObJg=s176-c-k-c0x00ffffff-no-rj', 'heart': False, 'reply': False, 'time_parsed': 1698622543.534026}\n",
      "{'cid': 'UgweiilszAKTXf-6pgh4AaABAg', 'text': \"swear I've heard his voice before\", 'time': '1 hour ago', 'author': '@Muun2cold', 'channel': 'UCbWUAKN2xZAcqCn-M7vORkA', 'votes': '0', 'photo': 'https://yt3.ggpht.com/KEQ9L-YpKSNbB-wTEgfSl8kSBq4y9yRSVGof0_5dDl2iVduNMTNpGNng0CAZZ22HJBd2SswM=s176-c-k-c0x00ffffff-no-rj', 'heart': False, 'reply': False, 'time_parsed': 1698620923.535026}\n",
      "{'cid': 'Ugyq0KMPMnwVV62NPFB4AaABAg', 'text': 'This took years off my life dear Lord', 'time': '2 hours ago', 'author': '@jimelello4268', 'channel': 'UCKrj-Xjl0qLmTEUS9J8GGDA', 'votes': '0', 'photo': 'https://yt3.ggpht.com/AtcReSPBORCY_rkr9bPz5SOkgl08RDZJKH1LZosXoNkwGcR1lYKCGFMNOYSt0FvHrCHSRAd0jw=s176-c-k-c0x00ffffff-no-rj', 'heart': False, 'reply': False, 'time_parsed': 1698617323.536026}\n",
      "{'cid': 'Ugxx75GR50bMd_HTiXJ4AaABAg', 'text': 'Pardon me, but I find the joke where Metallica was mentioned actually hilarious for some reason. This is awesome', 'time': '4 hours ago', 'author': '@DylanBob-ue8rv', 'channel': 'UCfiXgoWJCNCBGsyu3lfkxaA', 'votes': '0', 'photo': 'https://yt3.ggpht.com/ytc/APkrFKYVImsOoOWzFoDJ1UQDKjxtO2INwVwne4OHBFZ76G3_5oalIDl36Ih9fXGjaqui=s176-c-k-c0x00ffffff-no-rj', 'heart': False, 'reply': False, 'time_parsed': 1698610123.537027}\n",
      "{'cid': 'Ugxc5orOWWALTMDmSuR4AaABAg', 'text': 'what is going on', 'time': '8 hours ago', 'author': '@imfrod', 'channel': 'UCFq8P8x49zmTKXkcoPKbKtQ', 'votes': '0', 'photo': 'https://yt3.ggpht.com/PFpN3axuY2Bc5GPymqJYxrl8oRg2L7371dyvm0Yw4k92WXikRLHIcCeZahVBGSH4PQOsJnd6Hg=s176-c-k-c0x00ffffff-no-rj', 'heart': False, 'reply': False, 'time_parsed': 1698595723.537027}\n",
      "{'cid': 'UgzjHUqqGubf2mKwoXF4AaABAg', 'text': 'Bro might be living in Disney if this is actually happening with between a duck', 'time': '8 hours ago', 'author': '@TRGEric', 'channel': 'UCK4A-uGFtUPQjokt0XzPvqw', 'votes': '0', 'photo': 'https://yt3.ggpht.com/sCix4pSYOivP_FzCnpX4F-8X1vnxvBqIl6imr4kJdzdxXMtoShKvskN45X7eLOhOl5SkOsCwYA=s176-c-k-c0x00ffffff-no-rj', 'heart': False, 'reply': False, 'time_parsed': 1698595723.538027}\n",
      "{'cid': 'UgxrkihG063BUxxoS7B4AaABAg', 'text': 'Jesus Christ someone get this guy off the stage he stinks like come on bro is over here trying his best bro I should just stop before his ahead', 'time': '8 hours ago', 'author': '@TRGEric', 'channel': 'UCK4A-uGFtUPQjokt0XzPvqw', 'votes': '0', 'photo': 'https://yt3.ggpht.com/sCix4pSYOivP_FzCnpX4F-8X1vnxvBqIl6imr4kJdzdxXMtoShKvskN45X7eLOhOl5SkOsCwYA=s176-c-k-c0x00ffffff-no-rj', 'heart': False, 'reply': False, 'time_parsed': 1698595723.539027}\n",
      "{'cid': 'UgwwFGMMjJIb42s5t-t4AaABAg', 'text': 'I have a question can you leave me alone', 'time': '8 hours ago', 'author': '@TRGEric', 'channel': 'UCK4A-uGFtUPQjokt0XzPvqw', 'votes': '0', 'photo': 'https://yt3.ggpht.com/sCix4pSYOivP_FzCnpX4F-8X1vnxvBqIl6imr4kJdzdxXMtoShKvskN45X7eLOhOl5SkOsCwYA=s176-c-k-c0x00ffffff-no-rj', 'heart': False, 'reply': False, 'time_parsed': 1698595723.539027}\n",
      "{'cid': 'UgwPh08SLbJq7fg24Th4AaABAg', 'text': \"Since he's talking about podcast what's the part where he says Andrew takes my inspiration because he clearly ain't to smart Rosales like that one dude that's on Xbox constantly and thinks he's like super cool with the ladies I don't want those kids you blocked me recently I got them banned for a year I'm proud of myself\", 'time': '8 hours ago', 'author': '@TRGEric', 'channel': 'UCK4A-uGFtUPQjokt0XzPvqw', 'votes': '0', 'photo': 'https://yt3.ggpht.com/sCix4pSYOivP_FzCnpX4F-8X1vnxvBqIl6imr4kJdzdxXMtoShKvskN45X7eLOhOl5SkOsCwYA=s176-c-k-c0x00ffffff-no-rj', 'heart': False, 'reply': False, 'time_parsed': 1698595723.540027}\n",
      "{'cid': 'UgzbKLOLbbFvfV5etfl4AaABAg', 'text': '16:20 when the part when r34 conversation', 'time': '8 hours ago', 'author': '@TRGEric', 'channel': 'UCK4A-uGFtUPQjokt0XzPvqw', 'votes': '0', 'photo': 'https://yt3.ggpht.com/sCix4pSYOivP_FzCnpX4F-8X1vnxvBqIl6imr4kJdzdxXMtoShKvskN45X7eLOhOl5SkOsCwYA=s176-c-k-c0x00ffffff-no-rj', 'heart': False, 'reply': False, 'time_parsed': 1698595723.541027}\n"
     ]
    }
   ],
   "source": [
    "from youtube_comment_downloader import *\n",
    "from itertools import islice\n",
    "downloader = YoutubeCommentDownloader() \n",
    "comments = downloader.get_comments_from_url('https://www.youtube.com/watch?v=cp2PhE26ouQ&ab_channel=penguinz0')\n"
   ]
  },
  {
   "cell_type": "code",
   "execution_count": 14,
   "metadata": {},
   "outputs": [
    {
     "data": {
      "text/plain": [
       "<generator object YoutubeCommentDownloader.get_comments_from_url at 0x000001712EA61B60>"
      ]
     },
     "execution_count": 14,
     "metadata": {},
     "output_type": "execute_result"
    }
   ],
   "source": [
    "comments"
   ]
  },
  {
   "cell_type": "code",
   "execution_count": 15,
   "metadata": {},
   "outputs": [],
   "source": [
    "import pandas as pd\n",
    "df = pd.DataFrame(comments)"
   ]
  },
  {
   "cell_type": "code",
   "execution_count": 16,
   "metadata": {},
   "outputs": [
    {
     "data": {
      "text/html": [
       "<div>\n",
       "<style scoped>\n",
       "    .dataframe tbody tr th:only-of-type {\n",
       "        vertical-align: middle;\n",
       "    }\n",
       "\n",
       "    .dataframe tbody tr th {\n",
       "        vertical-align: top;\n",
       "    }\n",
       "\n",
       "    .dataframe thead th {\n",
       "        text-align: right;\n",
       "    }\n",
       "</style>\n",
       "<table border=\"1\" class=\"dataframe\">\n",
       "  <thead>\n",
       "    <tr style=\"text-align: right;\">\n",
       "      <th></th>\n",
       "    </tr>\n",
       "  </thead>\n",
       "  <tbody>\n",
       "  </tbody>\n",
       "</table>\n",
       "</div>"
      ],
      "text/plain": [
       "Empty DataFrame\n",
       "Columns: []\n",
       "Index: []"
      ]
     },
     "execution_count": 16,
     "metadata": {},
     "output_type": "execute_result"
    }
   ],
   "source": [
    "df"
   ]
  },
  {
   "cell_type": "code",
   "execution_count": 7,
   "metadata": {},
   "outputs": [
    {
     "ename": "AttributeError",
     "evalue": "'generator' object has no attribute 'to_csv'",
     "output_type": "error",
     "traceback": [
      "\u001b[1;31m---------------------------------------------------------------------------\u001b[0m",
      "\u001b[1;31mAttributeError\u001b[0m                            Traceback (most recent call last)",
      "\u001b[1;32mc:\\Users\\emzou\\Desktop\\thesis\\charlievideogetter.ipynb Cell 10\u001b[0m line \u001b[0;36m1\n\u001b[1;32m----> <a href='vscode-notebook-cell:/c%3A/Users/emzou/Desktop/thesis/charlievideogetter.ipynb#X12sZmlsZQ%3D%3D?line=0'>1</a>\u001b[0m comments\u001b[39m.\u001b[39;49mto_csv(\u001b[39m'\u001b[39m\u001b[39mspooky.csv\u001b[39m\u001b[39m'\u001b[39m)\n",
      "\u001b[1;31mAttributeError\u001b[0m: 'generator' object has no attribute 'to_csv'"
     ]
    }
   ],
   "source": [
    "comments.to_csv('spooky.csv')"
   ]
  }
 ],
 "metadata": {
  "kernelspec": {
   "display_name": "Python 3.10.8 64-bit (microsoft store)",
   "language": "python",
   "name": "python3"
  },
  "language_info": {
   "codemirror_mode": {
    "name": "ipython",
    "version": 3
   },
   "file_extension": ".py",
   "mimetype": "text/x-python",
   "name": "python",
   "nbconvert_exporter": "python",
   "pygments_lexer": "ipython3",
   "version": "3.10.11"
  },
  "orig_nbformat": 4,
  "vscode": {
   "interpreter": {
    "hash": "2daeb884317b878460e097be1713ca3cd265951260d756d04b2da85692c326d5"
   }
  }
 },
 "nbformat": 4,
 "nbformat_minor": 2
}
